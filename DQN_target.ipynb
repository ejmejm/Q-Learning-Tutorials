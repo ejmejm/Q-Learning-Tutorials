{
 "cells": [
  {
   "cell_type": "code",
   "execution_count": 1,
   "metadata": {},
   "outputs": [],
   "source": [
    "import numpy as np\n",
    "import torch\n",
    "import time\n",
    "from torch import nn\n",
    "import gym\n",
    "import cv2\n",
    "import copy\n",
    "import matplotlib.pyplot as plt\n",
    "from IPython import display\n",
    "import seaborn as sns\n",
    "\n",
    "%matplotlib inline"
   ]
  },
  {
   "cell_type": "code",
   "execution_count": 2,
   "metadata": {},
   "outputs": [
    {
     "name": "stdout",
     "output_type": "stream",
     "text": [
      "Action space: Discrete(4)\n",
      "Observation space: Box(210, 160, 3)\n"
     ]
    }
   ],
   "source": [
    "env = gym.make('BreakoutDeterministic-v4')\n",
    "print('Action space:', env.action_space)\n",
    "print('Observation space:', env.observation_space)"
   ]
  },
  {
   "cell_type": "code",
   "execution_count": 3,
   "metadata": {},
   "outputs": [],
   "source": [
    "N_FRAMES = 4\n",
    "\n",
    "def filter_obs(obs, resize_shape=(84, 110), crop_shape=None):\n",
    "    assert(type(obs) == np.ndarray), \"The observation must be a numpy array!\"\n",
    "    assert(len(obs.shape) == 3), \"The observation must be a 3D array!\"\n",
    "\n",
    "    obs = cv2.resize(obs, resize_shape, interpolation=cv2.INTER_LINEAR)\n",
    "    obs = cv2.cvtColor(obs, cv2.COLOR_BGR2GRAY)\n",
    "    obs = obs / 255.\n",
    "    if crop_shape:\n",
    "        crop_x_margin = (resize_shape[1] - crop_shape[1]) // 2\n",
    "        crop_y_margin = (resize_shape[0] - crop_shape[0]) // 2\n",
    "        \n",
    "        x_start, x_end = crop_x_margin, resize_shape[1] - crop_x_margin\n",
    "        y_start, y_end = crop_y_margin, resize_shape[0] - crop_y_margin\n",
    "        \n",
    "        obs = obs[x_start:x_end, y_start:y_end]\n",
    "    \n",
    "    return obs\n",
    "\n",
    "def get_stacked_obs(obs, prev_frames):\n",
    "    if not prev_frames:\n",
    "        prev_frames = [obs] * (N_FRAMES - 1)\n",
    "        \n",
    "    prev_frames.append(obs)\n",
    "    stacked_frames = np.stack(prev_frames)\n",
    "    prev_frames = prev_frames[-(N_FRAMES-1):]\n",
    "    \n",
    "    return stacked_frames, prev_frames\n",
    "\n",
    "def preprocess_obs(obs, prev_frames):\n",
    "    filtered_obs = filter_obs(obs)\n",
    "    stacked_obs, prev_frames = get_stacked_obs(filtered_obs, prev_frames)\n",
    "    return stacked_obs, prev_frames\n",
    "\n",
    "def format_reward(reward):\n",
    "    if reward > 0:\n",
    "        return 1\n",
    "    elif reward < 0:\n",
    "        return -1\n",
    "    return 0"
   ]
  },
  {
   "cell_type": "code",
   "execution_count": 4,
   "metadata": {},
   "outputs": [],
   "source": [
    "# Original Paper\n",
    "class DQN(nn.Module):\n",
    "    def __init__(self, n_acts):\n",
    "        super(DQN, self).__init__()\n",
    "        \n",
    "        self.layer1 = nn.Sequential(\n",
    "            nn.Conv2d(N_FRAMES, 16, kernel_size=8, stride=4, padding=0),\n",
    "            nn.ReLU())\n",
    "        self.layer2 = nn.Sequential(\n",
    "            nn.Conv2d(16, 32, kernel_size=4, stride=2, padding=0),\n",
    "            nn.ReLU())\n",
    "        self.layer3 = nn.Sequential(\n",
    "            nn.Linear(32 * 12 * 9, 256),\n",
    "            nn.ReLU())\n",
    "        self.layer4 = nn.Sequential(\n",
    "            nn.Linear(256, n_acts))\n",
    "        \n",
    "    def forward(self, obs):\n",
    "        q_values = self.layer1(obs)\n",
    "        q_values = self.layer2(q_values)\n",
    "        \n",
    "        # 2015 model: (32, 8x8, 4), (64, 4x4, 2), (64, 3x3, 1), (512)\n",
    "        q_values = q_values.view(-1, 32 * 12 * 9)\n",
    "        q_values = self.layer3(q_values)\n",
    "        q_values = self.layer4(q_values)\n",
    "        \n",
    "        return q_values\n",
    "    \n",
    "    def train_on_batch(self, target_model, optimizer, obs, acts, rewards, next_obs, terminals, gamma=0.99):\n",
    "        next_q_values = target_model.forward(next_obs)\n",
    "        max_next_q_values = torch.max(next_q_values, dim=1)[0].detach()\n",
    "        \n",
    "        terminal_mods = 1 - terminals\n",
    "        actual_qs = rewards + terminal_mods * gamma * max_next_q_values\n",
    "            \n",
    "        pred_qs = self.forward(obs)\n",
    "        pred_qs = pred_qs.gather(index=acts.view(-1, 1), dim=1).view(-1)\n",
    "        \n",
    "        loss = torch.mean((actual_qs - pred_qs) ** 2)\n",
    "        \n",
    "        optimizer.zero_grad()\n",
    "        loss.backward()\n",
    "        optimizer.step()"
   ]
  },
  {
   "cell_type": "code",
   "execution_count": 5,
   "metadata": {},
   "outputs": [],
   "source": [
    "class ExperienceReplay():\n",
    "    def __init__(self, capacity):\n",
    "        self.capacity = capacity\n",
    "        self.data = []\n",
    "        \n",
    "    def add_step(self, step_data):\n",
    "        self.data.append(step_data)\n",
    "        if len(self.data) > self.capacity:\n",
    "            self.data = self.data[-self.capacity:]\n",
    "            \n",
    "    def sample(self, n):\n",
    "        n = min(n, len(self.data))\n",
    "        indices = np.random.choice(range(len(self.data)), n, replace=False)\n",
    "        samples = np.asarray(self.data)[indices]\n",
    "        \n",
    "        state_data = torch.tensor(np.stack(samples[:, 0])).float().cuda()\n",
    "        act_data = torch.tensor(np.stack(samples[:, 1])).long().cuda()\n",
    "        reward_data = torch.tensor(np.stack(samples[:, 2])).float().cuda()\n",
    "        next_state_data = torch.tensor(np.stack(samples[:, 3])).float().cuda()\n",
    "        terminal_data = torch.tensor(np.stack(samples[:, 4])).float().cuda()\n",
    "        \n",
    "        return state_data, act_data, reward_data, next_state_data, terminal_data"
   ]
  },
  {
   "cell_type": "markdown",
   "metadata": {},
   "source": [
    "# DQN Algorithm\n",
    "\n",
    "<img src='imgs/dqn_algorithm.png' width=80% align='left' />"
   ]
  },
  {
   "cell_type": "code",
   "execution_count": 8,
   "metadata": {},
   "outputs": [],
   "source": [
    "n_episodes = 10000\n",
    "max_steps = 5000\n",
    "er_capacity = 150000 # 1m in paper\n",
    "n_acts = env.action_space.n # 0: no-op, 1: start game, 2: right, 3: left\n",
    "train_batch_size = 32\n",
    "learning_rate = 2.5e-4\n",
    "print_freq = 100\n",
    "update_freq = 4\n",
    "frame_skip = 3\n",
    "n_anneal_steps = 1e5 # Anneal over 1m steps in paper\n",
    "target_update_delay = 10000 # How many timesteps in between target model update\n",
    "epsilon = lambda step: np.clip(1 - 0.9 * (step/n_anneal_steps), 0.1, 1) # Anneal over 1m steps in paper, 100k here"
   ]
  },
  {
   "cell_type": "code",
   "execution_count": 9,
   "metadata": {},
   "outputs": [
    {
     "name": "stdout",
     "output_type": "stream",
     "text": [
      "Episode #0 | Step #94 | Epsilon 1.00 | Avg. Reward 3.00\n",
      "Episode #100 | Step #7247 | Epsilon 0.93 | Avg. Reward 1.44\n",
      "Episode #200 | Step #14293 | Epsilon 0.87 | Avg. Reward 1.16\n",
      "Episode #300 | Step #21821 | Epsilon 0.80 | Avg. Reward 1.44\n",
      "Episode #400 | Step #29218 | Epsilon 0.74 | Avg. Reward 1.22\n",
      "Episode #500 | Step #36796 | Epsilon 0.67 | Avg. Reward 1.30\n",
      "Episode #600 | Step #44008 | Epsilon 0.60 | Avg. Reward 0.78\n",
      "Episode #700 | Step #51350 | Epsilon 0.54 | Avg. Reward 0.89\n",
      "Episode #800 | Step #60693 | Epsilon 0.45 | Avg. Reward 2.09\n",
      "Episode #900 | Step #71689 | Epsilon 0.35 | Avg. Reward 3.18\n",
      "Episode #1000 | Step #86265 | Epsilon 0.22 | Avg. Reward 5.46\n",
      "Episode #1100 | Step #104289 | Epsilon 0.10 | Avg. Reward 8.54\n",
      "Episode #1200 | Step #119634 | Epsilon 0.10 | Avg. Reward 10.32\n",
      "Episode #1300 | Step #150842 | Epsilon 0.10 | Avg. Reward 17.47\n",
      "Episode #1400 | Step #179146 | Epsilon 0.10 | Avg. Reward 15.51\n",
      "Episode #1500 | Step #197695 | Epsilon 0.10 | Avg. Reward 16.74\n",
      "Episode #1600 | Step #220361 | Epsilon 0.10 | Avg. Reward 20.51\n",
      "Episode #1700 | Step #241209 | Epsilon 0.10 | Avg. Reward 20.79\n",
      "Episode #1800 | Step #264187 | Epsilon 0.10 | Avg. Reward 23.31\n",
      "Episode #1900 | Step #302409 | Epsilon 0.10 | Avg. Reward 25.47\n",
      "Episode #2000 | Step #328433 | Epsilon 0.10 | Avg. Reward 23.10\n"
     ]
    },
    {
     "ename": "KeyboardInterrupt",
     "evalue": "",
     "output_type": "error",
     "traceback": [
      "\u001b[0;31m---------------------------------------------------------------------------\u001b[0m",
      "\u001b[0;31mKeyboardInterrupt\u001b[0m                         Traceback (most recent call last)",
      "\u001b[0;32m<ipython-input-9-63e015da1d31>\u001b[0m in \u001b[0;36m<module>\u001b[0;34m\u001b[0m\n\u001b[1;32m     40\u001b[0m \u001b[0;34m\u001b[0m\u001b[0m\n\u001b[1;32m     41\u001b[0m         \u001b[0;32mif\u001b[0m \u001b[0mglobal_step\u001b[0m \u001b[0;34m%\u001b[0m \u001b[0mupdate_freq\u001b[0m \u001b[0;34m==\u001b[0m \u001b[0;36m0\u001b[0m\u001b[0;34m:\u001b[0m\u001b[0;34m\u001b[0m\u001b[0;34m\u001b[0m\u001b[0m\n\u001b[0;32m---> 42\u001b[0;31m             \u001b[0mobs_data\u001b[0m\u001b[0;34m,\u001b[0m \u001b[0mact_data\u001b[0m\u001b[0;34m,\u001b[0m \u001b[0mreward_data\u001b[0m\u001b[0;34m,\u001b[0m \u001b[0mnext_obs_data\u001b[0m\u001b[0;34m,\u001b[0m \u001b[0mterminal_data\u001b[0m \u001b[0;34m=\u001b[0m \u001b[0mer\u001b[0m\u001b[0;34m.\u001b[0m\u001b[0msample\u001b[0m\u001b[0;34m(\u001b[0m\u001b[0mtrain_batch_size\u001b[0m\u001b[0;34m)\u001b[0m\u001b[0;34m\u001b[0m\u001b[0;34m\u001b[0m\u001b[0m\n\u001b[0m\u001b[1;32m     43\u001b[0m             model.train_on_batch(target_model, optimizer, obs_data, act_data,\n\u001b[1;32m     44\u001b[0m                                  reward_data, next_obs_data, terminal_data)\n",
      "\u001b[0;32m<ipython-input-5-dc1b9234e6f1>\u001b[0m in \u001b[0;36msample\u001b[0;34m(self, n)\u001b[0m\n\u001b[1;32m     12\u001b[0m         \u001b[0mn\u001b[0m \u001b[0;34m=\u001b[0m \u001b[0mmin\u001b[0m\u001b[0;34m(\u001b[0m\u001b[0mn\u001b[0m\u001b[0;34m,\u001b[0m \u001b[0mlen\u001b[0m\u001b[0;34m(\u001b[0m\u001b[0mself\u001b[0m\u001b[0;34m.\u001b[0m\u001b[0mdata\u001b[0m\u001b[0;34m)\u001b[0m\u001b[0;34m)\u001b[0m\u001b[0;34m\u001b[0m\u001b[0;34m\u001b[0m\u001b[0m\n\u001b[1;32m     13\u001b[0m         \u001b[0mindices\u001b[0m \u001b[0;34m=\u001b[0m \u001b[0mnp\u001b[0m\u001b[0;34m.\u001b[0m\u001b[0mrandom\u001b[0m\u001b[0;34m.\u001b[0m\u001b[0mchoice\u001b[0m\u001b[0;34m(\u001b[0m\u001b[0mrange\u001b[0m\u001b[0;34m(\u001b[0m\u001b[0mlen\u001b[0m\u001b[0;34m(\u001b[0m\u001b[0mself\u001b[0m\u001b[0;34m.\u001b[0m\u001b[0mdata\u001b[0m\u001b[0;34m)\u001b[0m\u001b[0;34m)\u001b[0m\u001b[0;34m,\u001b[0m \u001b[0mn\u001b[0m\u001b[0;34m,\u001b[0m \u001b[0mreplace\u001b[0m\u001b[0;34m=\u001b[0m\u001b[0;32mFalse\u001b[0m\u001b[0;34m)\u001b[0m\u001b[0;34m\u001b[0m\u001b[0;34m\u001b[0m\u001b[0m\n\u001b[0;32m---> 14\u001b[0;31m         \u001b[0msamples\u001b[0m \u001b[0;34m=\u001b[0m \u001b[0mnp\u001b[0m\u001b[0;34m.\u001b[0m\u001b[0masarray\u001b[0m\u001b[0;34m(\u001b[0m\u001b[0mself\u001b[0m\u001b[0;34m.\u001b[0m\u001b[0mdata\u001b[0m\u001b[0;34m)\u001b[0m\u001b[0;34m[\u001b[0m\u001b[0mindices\u001b[0m\u001b[0;34m]\u001b[0m\u001b[0;34m\u001b[0m\u001b[0;34m\u001b[0m\u001b[0m\n\u001b[0m\u001b[1;32m     15\u001b[0m \u001b[0;34m\u001b[0m\u001b[0m\n\u001b[1;32m     16\u001b[0m         \u001b[0mstate_data\u001b[0m \u001b[0;34m=\u001b[0m \u001b[0mtorch\u001b[0m\u001b[0;34m.\u001b[0m\u001b[0mtensor\u001b[0m\u001b[0;34m(\u001b[0m\u001b[0mnp\u001b[0m\u001b[0;34m.\u001b[0m\u001b[0mstack\u001b[0m\u001b[0;34m(\u001b[0m\u001b[0msamples\u001b[0m\u001b[0;34m[\u001b[0m\u001b[0;34m:\u001b[0m\u001b[0;34m,\u001b[0m \u001b[0;36m0\u001b[0m\u001b[0;34m]\u001b[0m\u001b[0;34m)\u001b[0m\u001b[0;34m)\u001b[0m\u001b[0;34m.\u001b[0m\u001b[0mfloat\u001b[0m\u001b[0;34m(\u001b[0m\u001b[0;34m)\u001b[0m\u001b[0;34m.\u001b[0m\u001b[0mcuda\u001b[0m\u001b[0;34m(\u001b[0m\u001b[0;34m)\u001b[0m\u001b[0;34m\u001b[0m\u001b[0;34m\u001b[0m\u001b[0m\n",
      "\u001b[0;32m~/anaconda3/lib/python3.7/site-packages/numpy/core/_asarray.py\u001b[0m in \u001b[0;36masarray\u001b[0;34m(a, dtype, order)\u001b[0m\n\u001b[1;32m     83\u001b[0m \u001b[0;34m\u001b[0m\u001b[0m\n\u001b[1;32m     84\u001b[0m     \"\"\"\n\u001b[0;32m---> 85\u001b[0;31m     \u001b[0;32mreturn\u001b[0m \u001b[0marray\u001b[0m\u001b[0;34m(\u001b[0m\u001b[0ma\u001b[0m\u001b[0;34m,\u001b[0m \u001b[0mdtype\u001b[0m\u001b[0;34m,\u001b[0m \u001b[0mcopy\u001b[0m\u001b[0;34m=\u001b[0m\u001b[0;32mFalse\u001b[0m\u001b[0;34m,\u001b[0m \u001b[0morder\u001b[0m\u001b[0;34m=\u001b[0m\u001b[0morder\u001b[0m\u001b[0;34m)\u001b[0m\u001b[0;34m\u001b[0m\u001b[0;34m\u001b[0m\u001b[0m\n\u001b[0m\u001b[1;32m     86\u001b[0m \u001b[0;34m\u001b[0m\u001b[0m\n\u001b[1;32m     87\u001b[0m \u001b[0;34m\u001b[0m\u001b[0m\n",
      "\u001b[0;31mKeyboardInterrupt\u001b[0m: "
     ]
    }
   ],
   "source": [
    "er = ExperienceReplay(er_capacity)\n",
    "model = DQN(n_acts=env.action_space.n).cuda()\n",
    "target_model = copy.deepcopy(model)\n",
    "optimizer = torch.optim.RMSprop(model.parameters(), lr=learning_rate, eps=1e-6)\n",
    "all_rewards = []\n",
    "global_step = 0\n",
    "\n",
    "for episode in range(n_episodes):\n",
    "    prev_frames = []\n",
    "    obs, prev_frames = preprocess_obs(env.reset(), prev_frames)\n",
    "    \n",
    "    episode_reward = 0\n",
    "    step = 0\n",
    "    while step < max_steps:\n",
    "\n",
    "        ### Enact a step ###\n",
    "        \n",
    "        if np.random.rand() < epsilon(global_step):\n",
    "            act = np.random.choice(range(n_acts))\n",
    "        else:\n",
    "            obs_tensor = torch.tensor([obs]).float().cuda()\n",
    "            q_values = model(obs_tensor)[0]\n",
    "            q_values = q_values.cpu().detach().numpy()\n",
    "            act = np.argmax(q_values)\n",
    "        \n",
    "        cumulative_reward = 0\n",
    "        for _ in range(frame_skip):\n",
    "            next_obs, reward, done, _ = env.step(act)\n",
    "            cumulative_reward += reward\n",
    "            if done or step >= max_steps:\n",
    "                break\n",
    "        episode_reward += cumulative_reward\n",
    "        reward = format_reward(cumulative_reward)\n",
    "\n",
    "        next_obs, prev_frames = preprocess_obs(next_obs, prev_frames)\n",
    "        er.add_step([obs, act, reward, next_obs, int(done)])\n",
    "        obs = next_obs\n",
    "        \n",
    "        ### Train on a minibatch ###\n",
    "\n",
    "        if global_step % update_freq == 0:\n",
    "            obs_data, act_data, reward_data, next_obs_data, terminal_data = er.sample(train_batch_size)\n",
    "            model.train_on_batch(target_model, optimizer, obs_data, act_data,\n",
    "                                 reward_data, next_obs_data, terminal_data)\n",
    "        \n",
    "        ### Update target network ###\n",
    "        \n",
    "        if global_step and global_step % target_update_delay == 0:\n",
    "            target_model = copy.deepcopy(model)\n",
    "        \n",
    "        ### Finish the step ###\n",
    "        \n",
    "        step += 1\n",
    "        global_step += 1\n",
    "        \n",
    "        if done:\n",
    "            break\n",
    "            \n",
    "    all_rewards.append(episode_reward)\n",
    "    \n",
    "    if episode % print_freq == 0:\n",
    "        print('Episode #{} | Step #{} | Epsilon {:.2f} | Avg. Reward {:.2f}'.format(\n",
    "            episode, global_step, epsilon(global_step), np.mean(all_rewards[-print_freq:])))"
   ]
  },
  {
   "cell_type": "markdown",
   "metadata": {},
   "source": [
    "## Render Example Episodes"
   ]
  },
  {
   "cell_type": "code",
   "execution_count": 10,
   "metadata": {},
   "outputs": [],
   "source": [
    "prev_frames = []\n",
    "obs, prev_frames = preprocess_obs(env.reset(), prev_frames)\n",
    "\n",
    "for step in range(max_steps):\n",
    "    if np.random.rand() < 0.05:\n",
    "        act = np.random.choice(range(n_acts))\n",
    "    else:\n",
    "        obs_tensor = torch.tensor([obs]).float().cuda()\n",
    "        q_values = model(obs_tensor)[0]\n",
    "        q_values = q_values.cpu().detach().numpy()\n",
    "        act = np.argmax(q_values)\n",
    "\n",
    "    for _ in range(frame_skip):\n",
    "        next_obs, reward, done, _ = env.step(act)\n",
    "        if done or step >= max_steps:\n",
    "            break\n",
    "            \n",
    "        env.render()\n",
    "        time.sleep(0.05)\n",
    "        \n",
    "    if done:\n",
    "        break\n",
    "\n",
    "    obs, prev_frames = preprocess_obs(next_obs, prev_frames)"
   ]
  },
  {
   "cell_type": "code",
   "execution_count": 13,
   "metadata": {},
   "outputs": [
    {
     "data": {
      "text/plain": [
       "[<matplotlib.lines.Line2D at 0x7efb4b6db210>]"
      ]
     },
     "execution_count": 13,
     "metadata": {},
     "output_type": "execute_result"
    },
    {
     "data": {
      "image/png": "[encoded data removed]",
      "text/plain": [
       "<Figure size 432x288 with 1 Axes>"
      ]
     },
     "metadata": {
      "needs_background": "light"
     },
     "output_type": "display_data"
    }
   ],
   "source": [
    "smoothed_rewards = []\n",
    "smooth_window = 50\n",
    "for i in range(smooth_window, len(all_rewards)-smooth_window):\n",
    "    smoothed_rewards.append(np.mean(all_rewards[i-smooth_window:i+smooth_window]))\n",
    "    \n",
    "plt.plot(range(len(smoothed_rewards)), smoothed_rewards)"
   ]
  },
  {
   "cell_type": "code",
   "execution_count": 14,
   "metadata": {},
   "outputs": [
    {
     "name": "stderr",
     "output_type": "stream",
     "text": [
      "/home/ejmejm/anaconda3/lib/python3.7/site-packages/torch/serialization.py:250: UserWarning: Couldn't retrieve source code for container of type DQN. It won't be checked for correctness upon loading.\n",
      "  \"type \" + obj.__name__ + \". It won't be checked \"\n"
     ]
    }
   ],
   "source": [
    "torch.save(model, 'models/dqn_target_breakout_r23.pt')"
   ]
  }
 ],
 "metadata": {
  "kernelspec": {
   "display_name": "Python 3",
   "language": "python",
   "name": "python3"
  },
  "language_info": {
   "codemirror_mode": {
    "name": "ipython",
    "version": 3
   },
   "file_extension": ".py",
   "mimetype": "text/x-python",
   "name": "python",
   "nbconvert_exporter": "python",
   "pygments_lexer": "ipython3",
   "version": "3.7.4"
  }
 },
 "nbformat": 4,
 "nbformat_minor": 2
}
